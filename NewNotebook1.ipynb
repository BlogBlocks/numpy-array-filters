{
 "cells": [
  {
   "cell_type": "code",
   "execution_count": 3,
   "metadata": {},
   "outputs": [
    {
     "name": "stdout",
     "output_type": "stream",
     "text": [
      "Overwriting /home/jack/.ipython/profile_IPyLua/ipython_kernel_config.py\n"
     ]
    }
   ],
   "source": [
    "%%writefile /home/jack/.ipython/profile_IPyLua/ipython_kernel_config.py\n",
    "# Configuration file for ipython-Lua.\n",
    "   \n",
    "c = get_config()\n",
    "   \n",
    "c.KernelManager.kernel_cmd = [\n",
    "    \"luajit\", # select your Lua interpreter here (lua5.2, lua5.1, luajit)\n",
    "    \"IPyLua/IPyLuaKernel.lua\",  # probably need full path\n",
    "    \"{connection_file}\"\n",
    "]\n",
    "   \n",
    "# Disable authentication.\n",
    "c.Session.key = b''\n",
    "c.Session.keyfile = b''\n"
   ]
  },
  {
   "cell_type": "code",
   "execution_count": 6,
   "metadata": {},
   "outputs": [
    {
     "name": "stdout",
     "output_type": "stream",
     "text": [
      "ipython_config.py\t  ipython_kernel_config.py-bak\tpid\t  startup\r\n",
      "ipython_kernel_config.py  log\t\t\t\tsecurity\r\n"
     ]
    }
   ],
   "source": [
    "!ls ~/.ipython/profile_IPyLua"
   ]
  },
  {
   "cell_type": "code",
   "execution_count": 8,
   "metadata": {},
   "outputs": [],
   "source": [
    "!mkdir ~/.ipython/profile_IPyLua/static/custom/"
   ]
  },
  {
   "cell_type": "code",
   "execution_count": 9,
   "metadata": {},
   "outputs": [
    {
     "name": "stdout",
     "output_type": "stream",
     "text": [
      "cp: omitting directory '/home/jack/.ipython/profile_IPyLua/log'\r\n",
      "cp: omitting directory '/home/jack/.ipython/profile_IPyLua/pid'\r\n",
      "cp: omitting directory '/home/jack/.ipython/profile_IPyLua/security'\r\n",
      "cp: omitting directory '/home/jack/.ipython/profile_IPyLua/startup'\r\n",
      "cp: omitting directory '/home/jack/.ipython/profile_IPyLua/static'\r\n"
     ]
    }
   ],
   "source": [
    "!cp /home/jack/.ipython/profile_IPyLua/* ~/.ipython/profile_IPyLua/static/custom/"
   ]
  },
  {
   "cell_type": "code",
   "execution_count": 10,
   "metadata": {},
   "outputs": [
    {
     "name": "stdout",
     "output_type": "stream",
     "text": [
      "ipython_config.py  ipython_kernel_config.py  ipython_kernel_config.py-bak\r\n"
     ]
    }
   ],
   "source": [
    "!ls ~/.ipython/profile_IPyLua/static/custom/"
   ]
  },
  {
   "cell_type": "code",
   "execution_count": null,
   "metadata": {
    "collapsed": true
   },
   "outputs": [],
   "source": []
  }
 ],
 "metadata": {
  "kernelspec": {
   "display_name": "Python 2",
   "language": "python",
   "name": "python2"
  },
  "language_info": {
   "codemirror_mode": {
    "name": "ipython",
    "version": 2
   },
   "file_extension": ".py",
   "mimetype": "text/x-python",
   "name": "python",
   "nbconvert_exporter": "python",
   "pygments_lexer": "ipython2",
   "version": "2.7.13"
  }
 },
 "nbformat": 4,
 "nbformat_minor": 2
}
