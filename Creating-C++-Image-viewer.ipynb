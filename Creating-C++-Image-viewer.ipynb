{
 "cells": [
  {
   "cell_type": "markdown",
   "metadata": {},
   "source": [
    "# I wanted a fast easy image viewer so I made one called \"showme\"\n",
    "The script and compiling directions are below. It can be done without leaving the Jupyter Notebook<br />\n",
    "the top line ' %%writefile showme.cpp ' will write the file "
   ]
  },
  {
   "cell_type": "code",
   "execution_count": 1,
   "metadata": {},
   "outputs": [
    {
     "name": "stdout",
     "output_type": "stream",
     "text": [
      "Writing showme.cpp\n"
     ]
    }
   ],
   "source": [
    "%%writefile showme.cpp\n",
    "#include <cv.h>\n",
    "#include <highgui.h>\n",
    "#include <iostream>\n",
    "using namespace cv;\n",
    "using namespace std;\n",
    "int main(int argc,char **argv)\n",
    "{\n",
    "   Mat image;\n",
    "   image = imread(argv[1],1);\n",
    "\n",
    "   if(argc != 2 || !image.data)\n",
    "   {\n",
    "       cout << \"No image data\\n\";\n",
    "       return -1;\n",
    "   }\n",
    "\n",
    "   namedWindow(\"Image Viewer\",CV_WINDOW_AUTOSIZE);\n",
    "   imshow(\"Image Viewer\",image);\n",
    "   waitKey(0);\n",
    "   return 0;\n",
    "}"
   ]
  },
  {
   "cell_type": "markdown",
   "metadata": {},
   "source": [
    "Executing/running the next line will compile ' showme.cpp '"
   ]
  },
  {
   "cell_type": "code",
   "execution_count": 2,
   "metadata": {
    "collapsed": true
   },
   "outputs": [],
   "source": [
    "# Compile the Image Viewer below  showme.cpp\n",
    "!g++ showme.cpp -o showme `pkg-config opencv --cflags --libs`"
   ]
  },
  {
   "cell_type": "code",
   "execution_count": 4,
   "metadata": {},
   "outputs": [],
   "source": [
    "#The showme file was made executable \"  chmod a+x showme \"\n",
    "\n",
    "!chmod a+x showme"
   ]
  },
  {
   "cell_type": "code",
   "execution_count": null,
   "metadata": {
    "collapsed": true
   },
   "outputs": [],
   "source": [
    "# I wantedto use it from all directories\n",
    "# this copies the showme file to ' /usr/local/bin '\n",
    "\n",
    "!cp showme /usr/local/bin"
   ]
  },
  {
   "cell_type": "markdown",
   "metadata": {},
   "source": [
    "When run the next line shows the file ' image1.png ' in a pop upwindow called <b>Image Viewer</b><br />\n",
    "Since it was copied to /usr/local/bin it is an executable from any directory. You many use<br />\n",
    "the notebook or in a terminal window via command line."
   ]
  },
  {
   "cell_type": "code",
   "execution_count": 5,
   "metadata": {},
   "outputs": [
    {
     "name": "stdout",
     "output_type": "stream",
     "text": [
      "--2017-07-26 07:34:23--  https://upload.wikimedia.org/wikipedia/commons/3/33/Arnold_Schwarzenegger_edit%28ws%29.jpg\n",
      "Resolving upload.wikimedia.org (upload.wikimedia.org)... 198.35.26.112, 2620:0:863:ed1a::2:b\n",
      "Connecting to upload.wikimedia.org (upload.wikimedia.org)|198.35.26.112|:443... connected.\n",
      "HTTP request sent, awaiting response... 200 OK\n",
      "Length: 89175 (87K) [image/jpeg]\n",
      "Saving to: ‘face.jpg’\n",
      "\n",
      "face.jpg            100%[===================>]  87.08K   188KB/s    in 0.5s    \n",
      "\n",
      "2017-07-26 07:34:24 (188 KB/s) - ‘face.jpg’ saved [89175/89175]\n",
      "\n"
     ]
    }
   ],
   "source": [
    "#retrieve a public domainimage from Wiki and name it face.jpg\n",
    "!wget -O face.jpg https://upload.wikimedia.org/wikipedia/commons/3/33/Arnold_Schwarzenegger_edit%28ws%29.jpg"
   ]
  },
  {
   "cell_type": "code",
   "execution_count": 6,
   "metadata": {
    "collapsed": true
   },
   "outputs": [],
   "source": [
    "!showme face.jpg"
   ]
  }
 ],
 "metadata": {
  "kernelspec": {
   "display_name": "Python 2",
   "language": "python",
   "name": "python2"
  },
  "language_info": {
   "codemirror_mode": {
    "name": "ipython",
    "version": 2
   },
   "file_extension": ".py",
   "mimetype": "text/x-python",
   "name": "python",
   "nbconvert_exporter": "python",
   "pygments_lexer": "ipython2",
   "version": "2.7.13"
  }
 },
 "nbformat": 4,
 "nbformat_minor": 2
}
